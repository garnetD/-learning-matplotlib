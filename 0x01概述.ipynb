{
 "cells": [
  {
   "cell_type": "markdown",
   "metadata": {},
   "source": [
    "# Matplotlib"
   ]
  },
  {
   "cell_type": "markdown",
   "metadata": {},
   "source": [
    "### 一. 难点\n",
    "\n",
    "**matplotlib**有两套常用的调用风格:\n",
    "\n",
    "- **Matlab**风格的绘图方法\n",
    "    - plt.plot()\n",
    "    - plt.imshow()\n",
    "    - plt.xlim()\n",
    "    - plt.legend()\n",
    "    - plt.show()\n",
    "    \n",
    "    直接使用plt的方法进行绘图, 隐式地对图中的对象进行操作. plt域中的方法会自动地找到当前图, 并对其进行操作, 用户在这个过程中感受不到这些过程.\n",
    "\n",
    "- **面向对象**的绘图方法\n",
    "    ```python\n",
    "    fig, (ax1, ax2) = plt.subplots(2, 1)\n",
    "    ax1.plot([1, 2, 3])\n",
    "    ax2.plot()\n",
    "    ```\n",
    "    \n",
    "    每个方法会返回对象, 通过调用对象的方法, 在方法中传入对象进行画图操作, 这种方法会更加灵活"
   ]
  },
  {
   "cell_type": "markdown",
   "metadata": {},
   "source": [
    "### 二. Matplotlib结构\n",
    "\n",
    "**Matplotlib**主要的API可以分为三层:\n",
    "\n",
    "- matplotlib.backend_bases.FigureCanvas: 画布, 绘制图片的区域\n",
    "- matplotlib.backend_bases.Renderer: 渲染器, 知道如何将数据绘制到画布中.\n",
    "    - **FigureCanvas**和**Renderer**负责与绘图工具(比如wxpython, pyqt等GUI界面)或绘图语言(ps, svg)等的交互\n",
    "    - 因此, 一般来说不会操作这两个层面的API\n",
    "- matplotlib.artist.Artist: 这是我们进行操作的部分\n",
    "    - 作用是控制Renderer将图片绘制到FigureCanvas中\n",
    "    - Matplotlib中, 我们使用到的所有的类基本上都是**继承于**这个类"
   ]
  },
  {
   "cell_type": "markdown",
   "metadata": {},
   "source": [
    "### 三. 容器结构\n",
    "\n",
    "- **Figure**是容器的最底层, 所有的元素都将呈现在Figure上面\n",
    "    - 最主要作用是容纳**子图Axes**, 一个**Figure**上面可以包含多个子图Axes\n",
    "    - 也可以包含辅助显示元件, 如总标题(调用fig.suptitle方法得到), 自定义个legend等, 用法比较高级\n",
    "- **Axes**子图, 绘图元素将会布置在子图上, 常用的绘图方法如plot, bar, hist等也都是Axes类的方法\n",
    "    - 可以认为地分为**图像层**和**辅助显示层**\n",
    "        - 图像层承担数据, 如plot方法画出的线, bar方法画出的柱, scatter方法画出的点\n",
    "        - 辅助显示层是途中其他的各种元素, 例如:\n",
    "            - Axis 坐标轴\n",
    "            - Legend 图例\n",
    "            - Tick 坐标刻度\n",
    "            - Title 标题\n",
    "            - axis_label 坐标轴名称\n",
    "---\n",
    "\n",
    "单纯的容器是看不见的, 除了容器, 还有各种类型的用来显示的类\n",
    "\n",
    "- Line2D 线\n",
    "- Text 文字\n",
    "- Patch 图形, 这是一个宽泛的类, 抽象的类, 常见的有\n",
    "    - Rectangle 矩形\n",
    "    - Circle 圆形\n",
    "\n",
    "#### 注意\n",
    "\n",
    "不管是具体的图像层, 还是辅助理解图像的辅助显示层, 只要显示在图中的元素, 就是由上面若干种元素组成的, 例如\n",
    "\n",
    "- plot方法画出的线为Line2D实例, 坐标轴Axis以及坐标轴上表示刻度的细短线也是Line2D实例\n",
    "- bar方法画出的一个个柱, 每一个都是一个Rectangle实例, Legend对象中表示图例的矩形块也是Rectangle实例\n",
    "\n",
    "因此, 常用的plot, scatter, bar等方法作用是自动的生成系列的类型, 位置, 大小等都妥当Artist的子类. 换句话说, 用户用最基础的类及其方法也能实现(当然会非常麻烦). 另外, 这也为用户实现各种图, 提供了足够的灵活性\n",
    "\n",
    "---\n",
    "\n",
    "#### 另外\n",
    "\n",
    "不管是上面的容器(Figure, Axes, Axis, Legend等)还是具体的元素(Line2D, Text, Patch, Rectangle等)都是**Artist**类的子类, 都继承于Artist类, 共有Artist类的基础属性和方法."
   ]
  },
  {
   "cell_type": "markdown",
   "metadata": {},
   "source": [
    "### 四. Artist及Matplotlib的类结构\n",
    "\n",
    "Artist分为两类:\n",
    "\n",
    "    - 容器: Figure, Axes, Axis\n",
    "    - 标准绘图元件: Line2D, Text, Patch等\n",
    "\n",
    "#### 1. Artist\n",
    "\n",
    "##### 1. 通用属性\n",
    "\n",
    "这些属性是每个Artist子类共有的属性\n",
    "\n",
    "- alpha 透明度\n",
    "    - get_alpha() 获取对象的透明度\n",
    "    - set_alpha() 设置对象的透明度\n",
    "- axes 此Artist对象所在的Axes对象\n",
    "- figure 此Artist对象所在的Figure对象\n",
    "    - get_figure() 获取对象所在的Figure\n",
    "    - set_figure() 给对象设置一个新的Figure\n",
    "- _label: 标签属性, 在调用legend()方法, 显示图例的时候起作用\n",
    "    - get_label() 此Artist对象的label名称\n",
    "    - set_label() 设置一个label名称, 以供在legend中显示\n",
    "- visible: 是否可见\n",
    "    - get_visible()\n",
    "    - set_visible()\n",
    "- zorder: 控制绘图顺序的参数, 数值型参数, 值越小, 绘制的优先级越高\n",
    "    - get_zorder()\n",
    "    - set_zorder()\n",
    "\n",
    "##### 2. 常用方法\n",
    "\n",
    "- set()\n",
    "    - 批量设置多个属性, 免于多次调用不同的set_xxx()方法进行设置\n",
    "    - 例如: `fig.set(alpha=0.5, visible=True)`"
   ]
  },
  {
   "cell_type": "code",
   "execution_count": null,
   "metadata": {
    "collapsed": true
   },
   "outputs": [],
   "source": []
  }
 ],
 "metadata": {
  "anaconda-cloud": {},
  "kernelspec": {
   "display_name": "Python [default]",
   "language": "python",
   "name": "python3"
  },
  "language_info": {
   "codemirror_mode": {
    "name": "ipython",
    "version": 3
   },
   "file_extension": ".py",
   "mimetype": "text/x-python",
   "name": "python",
   "nbconvert_exporter": "python",
   "pygments_lexer": "ipython3",
   "version": "3.5.2"
  }
 },
 "nbformat": 4,
 "nbformat_minor": 1
}
